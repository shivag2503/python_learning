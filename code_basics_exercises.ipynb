{
 "cells": [
  {
   "cell_type": "markdown",
   "id": "20b19e98-08bd-4bab-a110-edbcfbf924ad",
   "metadata": {},
   "source": [
    "# Exercise: Python Variables"
   ]
  },
  {
   "cell_type": "markdown",
   "id": "7181c3a6-99d9-4729-aaf2-0fc1fd95a04f",
   "metadata": {},
   "source": [
    "### 1. Create a variable called break and assign it a value 5. See what happens and find out the reason behind the behavior that you see."
   ]
  },
  {
   "cell_type": "code",
   "execution_count": 1,
   "id": "8969bb48-7bd9-43bf-9371-37550209a017",
   "metadata": {},
   "outputs": [
    {
     "ename": "SyntaxError",
     "evalue": "invalid syntax (2709188746.py, line 1)",
     "output_type": "error",
     "traceback": [
      "\u001b[1;36m  Cell \u001b[1;32mIn[1], line 1\u001b[1;36m\u001b[0m\n\u001b[1;33m    break = 5\u001b[0m\n\u001b[1;37m          ^\u001b[0m\n\u001b[1;31mSyntaxError\u001b[0m\u001b[1;31m:\u001b[0m invalid syntax\n"
     ]
    }
   ],
   "source": [
    "break = 5"
   ]
  },
  {
   "cell_type": "markdown",
   "id": "d25db95f-c142-4163-bb2a-451818fd2fc8",
   "metadata": {},
   "source": [
    "#### Reason behind this behaviour because break is a keyword in python and we can't use the same name for variable creation."
   ]
  },
  {
   "cell_type": "markdown",
   "id": "28722f59-5fe0-44f3-a43d-352648475544",
   "metadata": {},
   "source": [
    "### 2. Create two variables. One to store your birth year and another one to store current year. Now calculate your age using these two variables"
   ]
  },
  {
   "cell_type": "code",
   "execution_count": 2,
   "id": "992ce5a9-725b-49ad-a168-ed58f4d6e099",
   "metadata": {},
   "outputs": [
    {
     "name": "stdout",
     "output_type": "stream",
     "text": [
      "28\n"
     ]
    }
   ],
   "source": [
    "birth_year = 1996\n",
    "current_year = 2024\n",
    "print(current_year - birth_year)"
   ]
  },
  {
   "cell_type": "markdown",
   "id": "8b641056-cc4c-42a3-a11f-61d4095c181e",
   "metadata": {},
   "source": [
    "### 3. Store your first, middle and last name in three different variables and then print your full name using these variables."
   ]
  },
  {
   "cell_type": "code",
   "execution_count": 5,
   "id": "3b9be207-02b4-4069-ab87-a612996b6f20",
   "metadata": {},
   "outputs": [
    {
     "name": "stdout",
     "output_type": "stream",
     "text": [
      "Shivam  Agrawal\n"
     ]
    }
   ],
   "source": [
    "first = \"Shivam\"\n",
    "middle = \"\"\n",
    "last = \"Agrawal\"\n",
    "print(first + \" \" + middle + \" \" + last)"
   ]
  },
  {
   "cell_type": "markdown",
   "id": "8064cda3-f90d-4552-b449-12dfcb541c45",
   "metadata": {},
   "source": [
    "### 4. Answer which of these are invalid variable names: _nation 1record record1 record_one record-one record^one continue"
   ]
  },
  {
   "cell_type": "code",
   "execution_count": 11,
   "id": "27b6b11e-77cf-4b52-a6ea-2771c937d18b",
   "metadata": {},
   "outputs": [],
   "source": [
    "# _nation = 5 => valid\n",
    "# 1record = 5 => invalid\n",
    "# record_one = 5 => valid\n",
    "# record^one = 5 => invalid"
   ]
  },
  {
   "cell_type": "markdown",
   "id": "74e10be2-50cb-45fd-aabc-11c305479568",
   "metadata": {},
   "source": [
    "# Exercise: Numbers in python"
   ]
  },
  {
   "cell_type": "markdown",
   "id": "18d59ad3-5c52-41d4-99a7-303b51a09971",
   "metadata": {},
   "source": [
    "### 1. You have a football field that is 92 meter long and 48.8 meter wide. Find out total area using python and print it.\n",
    "### 2. You bought 9 packets of potato chips from a store. Each packet costs 1.49 dollar and you gave shopkeeper 20 dollar. Find out using python, how many dollars is the shopkeeper going to give you back?\n",
    "### 3. You want to replace tiles in your bathroom which is exactly square and 5.5 feet is its length. If tiles cost 500 rs per square feet, how much will be the total cost to replace all tiles. Calculate and print the cost using python (Hint: Use power operator ** to find area of a square)\n",
    "### 4. Print binary representation of number 17"
   ]
  },
  {
   "cell_type": "code",
   "execution_count": 12,
   "id": "807c9b5d-e0d5-4ceb-9851-768cb20951a6",
   "metadata": {},
   "outputs": [
    {
     "name": "stdout",
     "output_type": "stream",
     "text": [
      "4489.599999999999\n"
     ]
    }
   ],
   "source": [
    "# Solution - 1\n",
    "length = 92\n",
    "width = 48.8\n",
    "area = length * width\n",
    "print(area)"
   ]
  },
  {
   "cell_type": "code",
   "execution_count": 13,
   "id": "8f5bdffb-4a53-4d5b-a924-af39d85f8591",
   "metadata": {},
   "outputs": [
    {
     "name": "stdout",
     "output_type": "stream",
     "text": [
      "6.59\n"
     ]
    }
   ],
   "source": [
    "# Solution - 2\n",
    "potato_chips_packet = 9\n",
    "cost = 1.49\n",
    "money_given = 20\n",
    "print(money_given - (potato_chips_packet * cost))"
   ]
  },
  {
   "cell_type": "code",
   "execution_count": 14,
   "id": "451765a9-df95-4866-9201-0c73dc63fb96",
   "metadata": {},
   "outputs": [
    {
     "name": "stdout",
     "output_type": "stream",
     "text": [
      "15125.0\n"
     ]
    }
   ],
   "source": [
    "# Solution - 3\n",
    "size = 5.5\n",
    "area = size ** 2\n",
    "print(area * 500)"
   ]
  },
  {
   "cell_type": "code",
   "execution_count": 19,
   "id": "49357217-21f6-46e7-9e06-c8d7cdd883f7",
   "metadata": {},
   "outputs": [
    {
     "name": "stdout",
     "output_type": "stream",
     "text": [
      "10001\n"
     ]
    }
   ],
   "source": [
    "# Solution - 4\n",
    "print(format(17, 'b'))"
   ]
  },
  {
   "cell_type": "markdown",
   "id": "7f86eb59-9e85-4684-bc98-9e0c5a9458d5",
   "metadata": {},
   "source": [
    "# Exercise: String in Python\n",
    "### 1. Create 3 variables to store street, city and country, now create address variable to store entire address. Use two ways of creating this variable, one using + operator and the other using f-string. Now Print the address in such a way that the street, city and country prints in a separate line\n",
    "### 2. Create a variable to store the string \"Earth revolves around the sun\"\n",
    "###      i. Print \"revolves\" using slice operator\n",
    "###      ii. Print \"sun\" using negative index\n",
    "### 3. Create two variables to store how many fruits and vegetables you eat in a day. Now Print \"I eat x veggies and y fruits daily\" where x and y presents vegetables and fruits that you eat everyday. Use python f string for this.\n",
    "### 4. I have a string variable called s='maine 200 banana khaye'. This of course is a wrong statement, the correct statement is 'maine 10 samosa khaye'. Replace incorrect words in original strong with new ones and print the new string. Also try to do this in one line."
   ]
  },
  {
   "cell_type": "code",
   "execution_count": 20,
   "id": "afe69883-7451-401c-be07-f0cbeec541fe",
   "metadata": {},
   "outputs": [
    {
     "name": "stdout",
     "output_type": "stream",
     "text": [
      "Shobhagpura\n",
      "Udaipur\n",
      "India\n",
      "Shobhagpura\n",
      "Udaipur\n",
      "India\n"
     ]
    }
   ],
   "source": [
    "# Solution - 1\n",
    "store_street = \"Shobhagpura\"\n",
    "city = \"Udaipur\"\n",
    "country = \"India\"\n",
    "\n",
    "print(f\"{store_street}\\n{city}\\n{country}\")\n",
    "print(store_street + \"\\n\" + city + \"\\n\" + country)"
   ]
  },
  {
   "cell_type": "code",
   "execution_count": 38,
   "id": "0ee67385-d45b-4707-b3d3-2bf3aa28e5dc",
   "metadata": {},
   "outputs": [
    {
     "name": "stdout",
     "output_type": "stream",
     "text": [
      "revolves\n",
      "sun\n"
     ]
    }
   ],
   "source": [
    "# Solution - 2\n",
    "line = \"Earth revolves around the sun\"\n",
    "print(line[6:14])\n",
    "print(line[-3:])"
   ]
  },
  {
   "cell_type": "code",
   "execution_count": 31,
   "id": "add7d567-66ba-41e1-bdae-1fe5e377e5b0",
   "metadata": {},
   "outputs": [
    {
     "name": "stdout",
     "output_type": "stream",
     "text": [
      "I eat 4 fruits and 5 veggies daily.\n"
     ]
    }
   ],
   "source": [
    "# Solution - 3\n",
    "fruits = 4\n",
    "vegetables = 5\n",
    "print(f\"I eat {fruits} fruits and {vegetables} veggies daily.\")"
   ]
  },
  {
   "cell_type": "code",
   "execution_count": 36,
   "id": "98b733a2-ce0a-4e0d-9911-117aa0e2d35e",
   "metadata": {},
   "outputs": [
    {
     "name": "stdout",
     "output_type": "stream",
     "text": [
      "maine 10 samosa khaye\n"
     ]
    }
   ],
   "source": [
    "# Solution - 4\n",
    "s = 'maine 200 banana khaye'\n",
    "s = s.replace('200', '10')\n",
    "s = s.replace('banana', 'samosa')\n",
    "print(s)\n"
   ]
  },
  {
   "cell_type": "markdown",
   "id": "12bf68c7-9b12-42aa-9861-24c69ea8c911",
   "metadata": {},
   "source": [
    "# Exercise: Python Lists\n",
    "### 1. Let us say your expense for every month are listed below,\n",
    "### January - 2200, February - 2350, March - 2600, April - 2130, May - 2190\n",
    "### Create a list to store these monthly expenses and using that find out:\n",
    "### 1. In Feb, how many dollars you spent extra compare to January?\n",
    "### 2. Find out your total expense in first quarter (first three months) of the year.\n",
    "### 3. Find out if you spent exactly 2000 dollars in any month\n",
    "### 4. June month just finished and your expense is 1980 dollar. Add this item to our monthly expense list\n",
    "### 5. You returned an item that you bought in a month of April and got a refund of 200$. Make a correction to your monthly expense list based on this"
   ]
  },
  {
   "cell_type": "code",
   "execution_count": 47,
   "id": "88cdbbdf-4169-4d94-9309-81c6110d93f3",
   "metadata": {},
   "outputs": [
    {
     "name": "stdout",
     "output_type": "stream",
     "text": [
      "150\n",
      "7150\n",
      "False\n",
      "[2200, 2350, 2600, 1930, 2190, 1980]\n"
     ]
    }
   ],
   "source": [
    "expense = [2200, 2350, 2600, 2130, 2190]\n",
    "print(expense[1] - expense[0])\n",
    "print(expense[0] + expense[1] + expense[2])\n",
    "print(2000 in expense)\n",
    "expense.append(1980)\n",
    "expense[3] -= 200\n",
    "print(expense)"
   ]
  },
  {
   "cell_type": "markdown",
   "id": "88296b43-5bb8-4b86-b6a8-faaa9fee1a17",
   "metadata": {},
   "source": [
    "### 2. You have a list of your favourite marvel super heros.\n",
    "### heros=['spider man','thor','hulk','iron man','captain america']\n",
    "### Using this find out,\n",
    "### 1. Length of the list\n",
    "### 2. Add 'black panther' at the end of this list\n",
    "### 3. You realize that you need to add 'black panther' after 'hulk', so remove it from the list first and then add it after 'hulk'\n",
    "### 4. Now you don't like thor and hulk because they get angry easily :) So you want to remove thor and hulk from list and replace them with doctor strange (because he is cool). Do that with one line of code.\n",
    "### 5. Sort the heros list in alphabetical order (Hint. Use dir() functions to list down all functions available in list)"
   ]
  },
  {
   "cell_type": "code",
   "execution_count": 46,
   "id": "74ebd292-f356-4d64-bc25-1e6ddd57eb2c",
   "metadata": {},
   "outputs": [
    {
     "name": "stdout",
     "output_type": "stream",
     "text": [
      "5\n",
      "['spider man', 'thor', 'hulk', 'iron man', 'captain america', 'black panther']\n",
      "['spider man', 'thor', 'hulk', 'black panther', 'iron man', 'captain america']\n",
      "['black panther', 'captain america', 'hulk', 'iron man', 'spider man', 'thor']\n"
     ]
    }
   ],
   "source": [
    "heros=['spider man','thor','hulk','iron man','captain america']\n",
    "print(len(heros))\n",
    "heros.append('black panther')\n",
    "print(heros)\n",
    "heros.remove('black panther')\n",
    "heros.insert(3, 'black panther')\n",
    "print(heros)\n",
    "heros.sort()\n",
    "print(heros)"
   ]
  },
  {
   "cell_type": "markdown",
   "id": "c4a2384a-a695-4384-bd84-279e0dd1e571",
   "metadata": {},
   "source": [
    "# Exercise: Python If Condition\n",
    "### 1. Using following list of cities per country,\n",
    "### india = [\"mumbai\", \"banglore\", \"chennai\", \"delhi\"]\n",
    "### pakistan = [\"lahore\",\"karachi\",\"islamabad\"]\n",
    "### bangladesh = [\"dhaka\", \"khulna\", \"rangpur\"]\n",
    "### i. Write a program that asks user to enter a city name and it should tell which country the city belongs to\n",
    "### ii. Write a program that asks user to enter two cities and it tells you if they both are in same country or not. For example if I enter mumbai and chennai, it will print \"Both cities are in India\" but if I enter mumbai and dhaka it should print \"They don't belong to same country\""
   ]
  },
  {
   "cell_type": "code",
   "execution_count": 49,
   "id": "44bc5770-7064-4db8-94ab-91a4455dde03",
   "metadata": {},
   "outputs": [
    {
     "name": "stdin",
     "output_type": "stream",
     "text": [
      "Enter the name of the city:  dhaka\n"
     ]
    },
    {
     "name": "stdout",
     "output_type": "stream",
     "text": [
      "dhaka belongs to Bangladesh\n"
     ]
    },
    {
     "name": "stdin",
     "output_type": "stream",
     "text": [
      "Enter the name of the first city:  mumbai\n",
      "Enter the name of the second city:  dhaka\n"
     ]
    },
    {
     "name": "stdout",
     "output_type": "stream",
     "text": [
      "Both cities are in Bangladesh\n"
     ]
    }
   ],
   "source": [
    "india = [\"mumbai\", \"banglore\", \"chennai\", \"delhi\"]\n",
    "pakistan = [\"lahore\",\"karachi\",\"islamabad\"]\n",
    "bangladesh = [\"dhaka\", \"khulna\", \"rangpur\"]\n",
    "\n",
    "# i\n",
    "city = input(\"Enter the name of the city: \")\n",
    "if city in india:\n",
    "    print(f\"{city} belongs to India\")\n",
    "elif city in pakistan:\n",
    "    print(f\"{city} belongs to Pakistan\")\n",
    "else:\n",
    "    print(f\"{city} belongs to Bangladesh\")"
   ]
  },
  {
   "cell_type": "code",
   "execution_count": 51,
   "id": "6222e41a-f11e-4e86-b938-433dc3de2120",
   "metadata": {},
   "outputs": [
    {
     "name": "stdin",
     "output_type": "stream",
     "text": [
      "Enter the name of the first city:  mumbai\n",
      "Enter the name of the second city:  delhi\n"
     ]
    },
    {
     "name": "stdout",
     "output_type": "stream",
     "text": [
      "Both cities are in India\n"
     ]
    }
   ],
   "source": [
    "# ii\n",
    "city1 = input(\"Enter the name of the first city: \")\n",
    "city2 = input(\"Enter the name of the second city: \")\n",
    "\n",
    "if city1 in india and city2 in india:\n",
    "     print(\"Both cities are in India\")\n",
    "elif city1 in pakistan and city2 in pakistan:\n",
    "    print(\"Both cities are in Pakistan\")\n",
    "elif city1 in pakistan and city2 in bangladesh:\n",
    "    print(\"Both cities are in Bangladesh\")\n",
    "else:\n",
    "    print(\"They don't belong to same country\")"
   ]
  },
  {
   "cell_type": "markdown",
   "id": "8a873c84-3796-4302-8580-6db381ada706",
   "metadata": {},
   "source": [
    "### 2. Write a python program that can tell you if your sugar is normal or not. Normal fasting level sugar range is 80 to 100.\n",
    "### i. Ask user to enter his fasting sugar level\n",
    "### ii. If it is below 80 to 100 range then print that sugar is low\n",
    "### iii. If it is above 100 then print that it is high otherwise print that it is normal"
   ]
  },
  {
   "cell_type": "code",
   "execution_count": 55,
   "id": "97af9f77-bab9-4f90-9db3-5d7f3d64491f",
   "metadata": {},
   "outputs": [
    {
     "name": "stdin",
     "output_type": "stream",
     "text": [
      "Enter your sugar level:  45\n"
     ]
    },
    {
     "name": "stdout",
     "output_type": "stream",
     "text": [
      "Low sugar\n"
     ]
    }
   ],
   "source": [
    "sugar_level = int(input(\"Enter your sugar level: \"))\n",
    "if sugar_level < 80:\n",
    "    print(\"Low sugar\")\n",
    "elif sugar_level > 100:\n",
    "    print(\"High sugar\")\n",
    "else:\n",
    "    print(\"Normal sugar\")"
   ]
  },
  {
   "cell_type": "markdown",
   "id": "5bb5321a-3bbf-47de-9e8a-4d57769b7a18",
   "metadata": {},
   "source": [
    "# Exercise: Python for loop\n",
    "### 1. After flipping a coin 10 times you got this result,\n",
    "### result = [\"heads\",\"tails\",\"tails\",\"heads\",\"tails\",\"heads\",\"heads\",\"tails\",\"tails\",\"tails\"]\n",
    "### Using for loop figure out how many times you got heads\n",
    "### 2. Print square of all numbers between 1 to 10 except even numbers"
   ]
  },
  {
   "cell_type": "code",
   "execution_count": 56,
   "id": "2c7d47fe-5533-4754-9cde-9ce18ceb3477",
   "metadata": {},
   "outputs": [
    {
     "name": "stdout",
     "output_type": "stream",
     "text": [
      "4\n"
     ]
    }
   ],
   "source": [
    "# Solution - 1\n",
    "count = 0\n",
    "result = [\"heads\",\"tails\",\"tails\",\"heads\",\"tails\",\"heads\",\"heads\",\"tails\",\"tails\",\"tails\"]\n",
    "for i in result:\n",
    "    if i == \"heads\":\n",
    "        count += 1\n",
    "\n",
    "print(count)"
   ]
  },
  {
   "cell_type": "code",
   "execution_count": 57,
   "id": "0c338689-1c4d-46b5-adba-75e2ada3b5ee",
   "metadata": {},
   "outputs": [
    {
     "name": "stdout",
     "output_type": "stream",
     "text": [
      "1\n",
      "9\n",
      "25\n",
      "49\n",
      "81\n"
     ]
    }
   ],
   "source": [
    "# Solution - 2\n",
    "for i in range(1, 11):\n",
    "    if i % 2 == 0:\n",
    "        continue\n",
    "    print(i ** 2)"
   ]
  },
  {
   "cell_type": "markdown",
   "id": "af73cd93-08d4-4104-8b85-4dddbabc9e89",
   "metadata": {},
   "source": [
    "### 3. Your monthly expense list (from Jan to May) looks like this,\n",
    "### expense_list = [2340, 2500, 2100, 3100, 2980]\n",
    "### Write a program that asks you to enter an expense amount and program should tell you in which month that expense occurred. If expense is not found then it should print that as well."
   ]
  },
  {
   "cell_type": "code",
   "execution_count": 60,
   "id": "0971933d-1539-40c8-a1b3-ded53d1fd621",
   "metadata": {},
   "outputs": [
    {
     "name": "stdin",
     "output_type": "stream",
     "text": [
      "Enter an expense value:  2980\n"
     ]
    },
    {
     "name": "stdout",
     "output_type": "stream",
     "text": [
      "May\n"
     ]
    }
   ],
   "source": [
    "expense_list = [2340, 2500, 2100, 3100, 2980]\n",
    "month_list = [\"Jan\", \"Feb\", \"Mar\", \"Apr\", \"May\"]\n",
    "\n",
    "month = -1\n",
    "expense_value = int(input(\"Enter an expense value: \"))\n",
    "\n",
    "for i in range(len(expense_list)):\n",
    "    if expense_value == expense_list[i]:\n",
    "        month = i\n",
    "        break\n",
    "\n",
    "if month == -1:\n",
    "    print(\"Not available\")\n",
    "else:\n",
    "    print(month_list[month])"
   ]
  },
  {
   "cell_type": "markdown",
   "id": "fd249c29-1a68-4c51-85c3-f57a5a972059",
   "metadata": {},
   "source": [
    "### 4. Lets say you are running a 5 km race. Write a program that,\n",
    "### i. Upon completing each 1 km asks you \"are you tired?\"\n",
    "### ii. If you reply \"yes\" then it should break and print \"you didn't finish the race\"\n",
    "### iii. If you reply \"no\" then it should continue and ask \"are you tired\" on every km\n",
    "### iv. If you finish all 5 km then it should print congratulations message"
   ]
  },
  {
   "cell_type": "code",
   "execution_count": 69,
   "id": "48fd56c2-b2d6-4762-b4c6-73ce22ca2c44",
   "metadata": {},
   "outputs": [
    {
     "name": "stdin",
     "output_type": "stream",
     "text": [
      "Are you tired? no\n",
      "Are you tired? no\n",
      "Are you tired? no\n",
      "Are you tired? no\n",
      "Are you tired? no\n"
     ]
    },
    {
     "name": "stdout",
     "output_type": "stream",
     "text": [
      "Congratulations\n"
     ]
    }
   ],
   "source": [
    "race = 0\n",
    "for i in range(1, 6):\n",
    "    race += 1\n",
    "    ask_user = input(\"Are you tired?\")\n",
    "    if ask_user == \"yes\":\n",
    "        print(\"you didn't finish the race\")\n",
    "        break\n",
    "    else:\n",
    "        continue\n",
    "\n",
    "if race == 5:\n",
    "    print(\"Congratulations\")\n",
    "\n"
   ]
  },
  {
   "cell_type": "markdown",
   "id": "52e71c10-7498-43e7-b58c-44f8cc3d4d3f",
   "metadata": {},
   "source": [
    "### 5. Write a program that prints following shape\n",
    "###       *\n",
    "###       **\n",
    "###       ***\n",
    "###       ****\n",
    "###       *****"
   ]
  },
  {
   "cell_type": "code",
   "execution_count": 70,
   "id": "5e9acd4a-d475-4133-a326-8efd56d54ddc",
   "metadata": {},
   "outputs": [
    {
     "name": "stdout",
     "output_type": "stream",
     "text": [
      "*\n",
      "**\n",
      "***\n",
      "****\n",
      "*****\n"
     ]
    }
   ],
   "source": [
    "for i in range(1, 6):\n",
    "    print(\"*\" * i)"
   ]
  },
  {
   "cell_type": "markdown",
   "id": "93f9cb25-f725-484a-9cdf-f7322b848102",
   "metadata": {},
   "source": [
    "# Exercise: Functions in python\n",
    "### 1. Write a function called calculate_area that takes base and height as an input and returns and area of a triangle. Equation of an area of a triangle is,\n",
    "### area = (1/2)*base*height\n",
    "### 2. Modify above function to take third parameter shape type. It can be either \"triangle\" or \"rectangle\". Based on shape type it will calculate area. Equation of rectangle's area is,\n",
    "### rectangle area=length*width\n",
    "### If no shape is supplied then it should take triangle as a default shape"
   ]
  },
  {
   "cell_type": "code",
   "execution_count": 81,
   "id": "2af8acd3-aab1-42c5-a643-769cfbe89b3a",
   "metadata": {},
   "outputs": [
    {
     "name": "stdout",
     "output_type": "stream",
     "text": [
      "Error\n"
     ]
    }
   ],
   "source": [
    "# Solution - 1 and 2\n",
    "def calculate_area(base, height, shape=\"triangle\"):\n",
    "    area = 0\n",
    "    if shape == \"rectangle\":\n",
    "        area = base * height\n",
    "    elif shape == \"triangle\":\n",
    "        area = 0.5 * base * height\n",
    "    else:\n",
    "        print(\"Error\")\n",
    "        area = None\n",
    "    return area\n",
    "\n",
    "res = calculate_area(10, 5, \"circle\")"
   ]
  },
  {
   "cell_type": "code",
   "execution_count": 82,
   "id": "6f2d6d28-b777-4a84-a872-76652770304d",
   "metadata": {},
   "outputs": [
    {
     "name": "stdout",
     "output_type": "stream",
     "text": [
      "None\n"
     ]
    }
   ],
   "source": [
    "print(res)"
   ]
  },
  {
   "cell_type": "markdown",
   "id": "0887f1ab-1fd5-488f-baff-c6c28b313490",
   "metadata": {},
   "source": [
    "### 3. Write a function called print_pattern that takes integer number as an argument and prints following pattern if input number is 3,\n",
    "### *\n",
    "### **\n",
    "### ***\n",
    "### if input is 4 then it should print\n",
    "### *\n",
    "### **\n",
    "### ***\n",
    "### ****\n",
    "### Basically number of lines it prints is equal to that number. (Hint: you need to use two for loops)"
   ]
  },
  {
   "cell_type": "code",
   "execution_count": 90,
   "id": "4b62a4b0-4e30-43e1-92de-239633f3d38c",
   "metadata": {},
   "outputs": [],
   "source": [
    "def print_pattern(num):\n",
    "    for i in range(1, num + 1):\n",
    "        s = ''\n",
    "        for i in range(i):\n",
    "            s += '*'\n",
    "        print(s)"
   ]
  },
  {
   "cell_type": "code",
   "execution_count": 93,
   "id": "8494ae7b-3852-43bb-8f8f-cefffc533fbe",
   "metadata": {},
   "outputs": [
    {
     "name": "stdout",
     "output_type": "stream",
     "text": [
      "*\n",
      "**\n",
      "***\n",
      "****\n",
      "*****\n",
      "******\n",
      "*******\n",
      "********\n",
      "*********\n",
      "**********\n"
     ]
    }
   ],
   "source": [
    "print_pattern(10)"
   ]
  },
  {
   "cell_type": "markdown",
   "id": "8f220054-64d8-4f29-a08e-61668b13df01",
   "metadata": {},
   "source": [
    "# Exercise: Python Dict and Tuples\n",
    "### 1. We have following information on countries and their population (population is in crores),\n",
    "| Country      | Population |\n",
    "| ----------- | ----------- |\n",
    "| China      | 143       |\n",
    "| India   | 136        |\n",
    "| USA     | 32         |\n",
    "| Pakistan   | 21      |\n",
    "\n",
    "### i. Using above create a dictionary of countries and its population\n",
    "### ii. Write a program that asks user for three type of inputs,\n",
    "### a. print: if user enter print then it should print all countries with their population in this format,\n",
    "###   china==>143\n",
    "###   india==>136\n",
    "###   usa==>32\n",
    "###   pakistan==>21\n",
    "### b. add: if user input add then it should further ask for a country name to add. If country already exist in our dataset then it should print that it exist and do nothing. If it doesn't then it asks for population and add that new country/population in our dictionary and print it\n",
    "### c. remove: when user inputs remove it should ask for a country to remove. If country exist in our dictionary then remove it and print new dictionary using format shown above in (a). Else print that country doesn't exist!\n",
    "### d. query: on this again ask user for which country he or she wants to query. When user inputs that country it will print population of that country.\n"
   ]
  },
  {
   "cell_type": "code",
   "execution_count": 105,
   "id": "b0bc3756-676d-44ad-9f04-46df94e3fa4a",
   "metadata": {},
   "outputs": [
    {
     "name": "stdin",
     "output_type": "stream",
     "text": [
      "You can type any of this 4 values: print, add, remove, query. Please type ur choice:  query\n",
      "Enter country name:  USA\n"
     ]
    },
    {
     "name": "stdout",
     "output_type": "stream",
     "text": [
      "32\n"
     ]
    }
   ],
   "source": [
    "dict = {\n",
    "    \"China\": 143,\n",
    "    \"India\": 136,\n",
    "    \"USA\": 32,\n",
    "    \"Pakistan\": 21\n",
    "}\n",
    "\n",
    "user_input = input(\"You can type any of this 4 values: print, add, remove, query. Please type ur choice: \")\n",
    "\n",
    "if user_input == \"print\":\n",
    "    for i in dict:\n",
    "        print(f\"{i} ==> {dict[i]}\")\n",
    "elif user_input == \"add\":\n",
    "    country = input(\"Enter country name: \")\n",
    "    if country in dict:\n",
    "        print(\"Country already exist\")\n",
    "    else:\n",
    "        population = int(input(\"Enter its population: \"))\n",
    "        dict[country] = population\n",
    "        print(dict)\n",
    "elif user_input == \"remove\":\n",
    "    country = input(\"Enter country name: \")\n",
    "    if country in dict:\n",
    "        dict.pop(country)\n",
    "        print(dict)\n",
    "    else:\n",
    "        print(\"Country doesn't exist\")\n",
    "elif user_input == \"query\":\n",
    "    country = input(\"Enter country name: \")\n",
    "    if country in dict:\n",
    "        print(dict[country])\n",
    "    else:\n",
    "        print(\"Country doesn't exist\")\n",
    "else:\n",
    "    print(\"Wrong choice\")"
   ]
  },
  {
   "cell_type": "markdown",
   "id": "991857de-3a7d-4a05-af00-a70a5f5911dd",
   "metadata": {},
   "source": [
    "### 2. You are given following list of stocks and their prices in last 3 days,\n",
    "| Stock      | Prices |\n",
    "| ----------- | ----------- |\n",
    "| info      | [600,630,620]       |\n",
    "| ril   | [1430,1490,1567]      |\n",
    "| mtl     | [234,180,160]         |\n",
    "### i. Write a program that asks user for operation. Value of operations could be,\n",
    "### a.  print: When user enters print it should print following,\n",
    "### info ==> [600, 630, 620] ==> avg:  616.67\n",
    "### ril ==> [1430, 1490, 1567] ==> avg:  1495.67\n",
    "### mtl ==> [234, 180, 160] ==> avg:  191.33\n",
    "### b. add: When user enters 'add', it asks for stock ticker and price. If stock already exist in your list (like info, ril etc) then it will append the price to the list. Otherwise it will create new entry in your dictionary. For example entering 'tata' and 560 will add tata ==> [560] to the dictionary of stocks."
   ]
  },
  {
   "cell_type": "code",
   "execution_count": 125,
   "id": "c5ed6447-5a55-4ee9-85e9-e81f3871a04f",
   "metadata": {},
   "outputs": [
    {
     "name": "stdin",
     "output_type": "stream",
     "text": [
      "print or add:  remove\n"
     ]
    },
    {
     "name": "stdout",
     "output_type": "stream",
     "text": [
      "Wrong choice\n"
     ]
    }
   ],
   "source": [
    "stocks = {\n",
    "    \"info\": [600, 630, 620],\n",
    "    \"ril\": [1430, 1490, 1567],\n",
    "    \"mtl\": [234, 180, 160]\n",
    "}\n",
    "\n",
    "user_input = input(\"print or add: \")\n",
    "\n",
    "if user_input == \"print\":\n",
    "    for i in stocks:\n",
    "        print(f\"{i} ==> {stocks[i]} ==> avg: {sum(stocks[i])/len(stocks[i])}\")\n",
    "elif user_input == \"add\":\n",
    "    stock = input(\"Enter stock name: \")\n",
    "    price = int(input(\"Enter its price: \"))\n",
    "    if stock in stocks:\n",
    "        stocks[stock].append(price)\n",
    "        print(stocks)\n",
    "    else:\n",
    "        stocks[stock] = [price]\n",
    "        print(stocks)\n",
    "else:\n",
    "    print(\"Wrong choice\")"
   ]
  },
  {
   "cell_type": "markdown",
   "id": "6c2a2754-0544-4fa5-b5b4-0a42b817e56a",
   "metadata": {},
   "source": [
    "### 3. Write circle_calc() function that takes radius of a circle as an input from user and then it calculates and returns area, circumference and diameter. You should get these values in your main program by calling circle_calc function and then print them"
   ]
  },
  {
   "cell_type": "code",
   "execution_count": 131,
   "id": "1b5d8044-b7b8-4fab-8aa4-1e86add503bb",
   "metadata": {},
   "outputs": [
    {
     "name": "stdout",
     "output_type": "stream",
     "text": [
      "(78.53981633974483, 31.41592653589793, 10)\n"
     ]
    }
   ],
   "source": [
    "import math\n",
    "\n",
    "def circle_calc(radius):\n",
    "    area = math.pi * (radius ** 2)\n",
    "    circumference = 2 * math.pi * radius\n",
    "    diameter = 2 * radius\n",
    "    return area, circumference, diameter\n",
    "\n",
    "print(circle_calc(5)) # tuple"
   ]
  },
  {
   "cell_type": "code",
   "execution_count": 133,
   "id": "9b0355c6-8040-40e2-a6ae-22ce50fbc864",
   "metadata": {},
   "outputs": [
    {
     "name": "stdout",
     "output_type": "stream",
     "text": [
      "Area: 314.1592653589793, circumference: 62.83185307179586, diameter: 20\n"
     ]
    }
   ],
   "source": [
    "output = circle_calc(10)\n",
    "print(f\"Area: {output[0]}, circumference: {output[1]}, diameter: {output[2]}\")"
   ]
  },
  {
   "cell_type": "markdown",
   "id": "323b9f57-9083-4616-8d1c-0515b1e7aecb",
   "metadata": {},
   "source": [
    "# Exercise: Python Read Write File\n",
    "### 1. poem.txt contains famous poem \"Road not taken\" by poet Robert Frost. You have to read this file in your python program and find out words with maximum occurance."
   ]
  },
  {
   "cell_type": "code",
   "execution_count": 214,
   "id": "08e92d97-2570-4a2f-81df-0fecc86016bb",
   "metadata": {},
   "outputs": [
    {
     "name": "stdout",
     "output_type": "stream",
     "text": [
      "the\n"
     ]
    }
   ],
   "source": [
    "f = open(\"A:\\\\python_learning\\\\pythonProject\\\\poem.txt\", \"r\")\n",
    "poem = f.read().split(\"\\n\")\n",
    "list_of_words = []\n",
    "for i in poem:\n",
    "    list_of_words.append(i.split(\" \"))\n",
    "unique = set()\n",
    "for i in list_of_words:\n",
    "    for j in range(len(i)):\n",
    "        unique.add(i[j])\n",
    "unique.remove(\"\")\n",
    "\n",
    "count = {}\n",
    "\n",
    "for i in unique:\n",
    "    val = 0\n",
    "    for j in range(len(poem)):\n",
    "        if i in poem[j].split(\" \"):\n",
    "            val += 1\n",
    "    count[i] = val\n",
    "\n",
    "max_words = max(list(count.values()))\n",
    "\n",
    "for word, count in count.items():\n",
    "    if count==max_words:\n",
    "        print(word)\n",
    "\n",
    "f.close()"
   ]
  },
  {
   "cell_type": "markdown",
   "id": "ea2c6f25-3f85-4ba4-9d2a-d8d2993d07e2",
   "metadata": {},
   "source": [
    "### 2. stocks.csv contains stock price, earnings per share and book value. You are writing a stock market application that will process this file and create a new file with financial metrics such as pe ratio and price to book ratio. These are calculated as,\n",
    "### pe ratio = price / earnings per share\n",
    "### price to book ratio = price / book value\n",
    "### Your input format (stocks.csv) is,\n",
    "\n",
    "| Company Name |\tPrice |\tEarnings Per Share\t| Book Value|\n",
    "|--------------|----------|---------------------|-----------|\n",
    "|Reliance |\t1467 |\t66\t| 653 |\n",
    "|Tata Steel |\t391\t| 89 |\t572 |\n",
    "### Output.csv should look like this,\n",
    "\n",
    "|Company Name |\tPE Ratio |\tPB Ratio |\n",
    "|-------------|----------|-----------|\n",
    "|Reliance |\t22.23 |\t2.25 |\n",
    "|Tata Steel |\t4.39 |\t0.68 |"
   ]
  },
  {
   "cell_type": "code",
   "execution_count": 293,
   "id": "8819818d-1a73-4d2b-bbc4-777106f16172",
   "metadata": {},
   "outputs": [],
   "source": [
    "with open(\"A:\\\\python_learning\\\\pythonProject\\\\stocks.csv\", \"r\") as f:\n",
    "    stock_list = f.read().split(\"\\n\")\n",
    "    new_string = \"Company Name, PE Ratio, PB Ratio\\n\"\n",
    "    for i in range(1, len(stock_list)):\n",
    "        temp_list = stock_list[i].split(\",\")\n",
    "        new_string += temp_list[0] + \", \" + str(round(int(temp_list[1])/int(temp_list[2]), 2)) + \", \" + str(round(int(temp_list[1])/int(temp_list[3]), 2)) + \"\\n\"\n",
    "        \n",
    "with open(\"A:\\\\python_learning\\\\pythonProject\\\\stocks2.csv\", \"w\") as f:\n",
    "    f.write(new_string)"
   ]
  },
  {
   "cell_type": "markdown",
   "id": "ec51a904-3544-4553-a4d6-65fad3266c22",
   "metadata": {},
   "source": [
    "# Exercise: Class and Objects\n",
    "### 1. Create a sample class named Employee with two attributes id and name\n",
    "### employee :\n",
    "###    id\n",
    "###    name\n",
    "### object initializes id and name dynamically for every Employee object created.\n",
    "### emp = Employee(1, \"coder\")\n",
    "### 2. Use del property to first delete id attribute and then the entire object"
   ]
  },
  {
   "cell_type": "code",
   "execution_count": 5,
   "id": "693e3ce6-ee21-46dc-9f84-e76a2236c020",
   "metadata": {},
   "outputs": [],
   "source": [
    "class Employee:\n",
    "    def __init__(self, id, name):\n",
    "        self.id = id\n",
    "        self.name = name\n",
    "\n",
    "emp = Employee(1, \"coder\")"
   ]
  },
  {
   "cell_type": "code",
   "execution_count": 6,
   "id": "6c713d16-7576-4322-93fa-d3446cb250d2",
   "metadata": {},
   "outputs": [],
   "source": [
    "del(emp.id)\n",
    "del(emp)"
   ]
  }
 ],
 "metadata": {
  "kernelspec": {
   "display_name": "Python 3 (ipykernel)",
   "language": "python",
   "name": "python3"
  },
  "language_info": {
   "codemirror_mode": {
    "name": "ipython",
    "version": 3
   },
   "file_extension": ".py",
   "mimetype": "text/x-python",
   "name": "python",
   "nbconvert_exporter": "python",
   "pygments_lexer": "ipython3",
   "version": "3.12.3"
  }
 },
 "nbformat": 4,
 "nbformat_minor": 5
}
